{
  "nbformat": 4,
  "nbformat_minor": 0,
  "metadata": {
    "colab": {
      "name": "Untitled18.ipynb",
      "provenance": [],
      "authorship_tag": "ABX9TyME1ri9crC/ZRbIQUsWQTr+",
      "include_colab_link": true
    },
    "kernelspec": {
      "name": "python3",
      "display_name": "Python 3"
    },
    "language_info": {
      "name": "python"
    }
  },
  "cells": [
    {
      "cell_type": "markdown",
      "metadata": {
        "id": "view-in-github",
        "colab_type": "text"
      },
      "source": [
        "<a href=\"https://colab.research.google.com/github/elpinchepastel/analisis_dataset/blob/main/orangeec.ipynb\" target=\"_parent\"><img src=\"https://colab.research.google.com/assets/colab-badge.svg\" alt=\"Open In Colab\"/></a>"
      ]
    },
    {
      "cell_type": "markdown",
      "metadata": {
        "id": "wWRNbVN1WNeP"
      },
      "source": [
        "1.\tLa Organización para la Cooperación y el Desarrollo Económico (OECD por sus siglas en inglés) le entrega el dataset orangeec.csv que contiene información recolectada sobre la economía naranja en países de América Latina. Haga un análisis exploratorio de datos para proveer a la OECD con información de valor sobre el impacto de la economía naranja en la región y su relación con otras variables macroeconómicas. Como parte del análisis se puede concluir que el dataset no es el adecuado para la toma de decisiones, para lo cual se debe sustentar la razón. "
      ]
    },
    {
      "cell_type": "code",
      "metadata": {
        "id": "flEfsA0KW4Qd"
      },
      "source": [
        "from google.colab import drive\n",
        "import pandas as pd"
      ],
      "execution_count": 10,
      "outputs": []
    },
    {
      "cell_type": "code",
      "metadata": {
        "colab": {
          "base_uri": "https://localhost:8080/"
        },
        "id": "NRUDLU8pW44X",
        "outputId": "3f82bf12-b353-470e-f25f-11139163735b"
      },
      "source": [
        "# Importemos para conectar Colab con la información en Drive\n",
        "drive.mount('/content/drive')"
      ],
      "execution_count": 2,
      "outputs": [
        {
          "output_type": "stream",
          "text": [
            "Mounted at /content/drive\n"
          ],
          "name": "stdout"
        }
      ]
    },
    {
      "cell_type": "code",
      "metadata": {
        "colab": {
          "base_uri": "https://localhost:8080/"
        },
        "id": "WT9ii8lzW7uO",
        "outputId": "7bdef97a-644b-46eb-8fed-32a49cdaa0bd"
      },
      "source": [
        "# Navegamos a la caparpeta con el contenido\n",
        "%cd '/content/drive/My Drive/Dataset'"
      ],
      "execution_count": 3,
      "outputs": [
        {
          "output_type": "stream",
          "text": [
            "/content/drive/My Drive/Dataset\n"
          ],
          "name": "stdout"
        }
      ]
    },
    {
      "cell_type": "code",
      "metadata": {
        "colab": {
          "base_uri": "https://localhost:8080/"
        },
        "id": "pdX0bFAMXfub",
        "outputId": "a58c6a01-c728-445e-f440-951b99016069"
      },
      "source": [
        "# Var a ver qué hay en la carpeta\n",
        "!ls"
      ],
      "execution_count": 4,
      "outputs": [
        {
          "output_type": "stream",
          "text": [
            "mtcars.csv  orangeec.csv\n"
          ],
          "name": "stdout"
        }
      ]
    },
    {
      "cell_type": "code",
      "metadata": {
        "id": "oeAQkH4ZXjKF"
      },
      "source": [
        " #Creamos un string con el nombre del archivo\n",
        "ruta_archivo = '/content/drive/My Drive/Dataset/{}'.format('orangeec.csv')"
      ],
      "execution_count": 6,
      "outputs": []
    },
    {
      "cell_type": "code",
      "metadata": {
        "colab": {
          "base_uri": "https://localhost:8080/",
          "height": 35
        },
        "id": "YbIHHxpIX2Xc",
        "outputId": "92500c56-744a-48da-f745-da21867788d7"
      },
      "source": [
        "ruta_archivo"
      ],
      "execution_count": 7,
      "outputs": [
        {
          "output_type": "execute_result",
          "data": {
            "application/vnd.google.colaboratory.intrinsic+json": {
              "type": "string"
            },
            "text/plain": [
              "'/content/drive/My Drive/Dataset/orangeec.csv'"
            ]
          },
          "metadata": {
            "tags": []
          },
          "execution_count": 7
        }
      ]
    },
    {
      "cell_type": "code",
      "metadata": {
        "colab": {
          "base_uri": "https://localhost:8080/"
        },
        "id": "5anhOHLQX7sY",
        "outputId": "44918bab-4137-430d-936c-281bec85c30f"
      },
      "source": [
        "print(ruta_archivo)"
      ],
      "execution_count": 12,
      "outputs": [
        {
          "output_type": "stream",
          "text": [
            "/content/drive/My Drive/Dataset/orangeec.csv\n"
          ],
          "name": "stdout"
        }
      ]
    },
    {
      "cell_type": "code",
      "metadata": {
        "id": "6_yJnzmyYEsk"
      },
      "source": [
        "df = pd.read_csv(ruta_archivo)"
      ],
      "execution_count": 13,
      "outputs": []
    },
    {
      "cell_type": "code",
      "metadata": {
        "id": "VpoDc2SzY6nO"
      },
      "source": [
        "# Usamos el método \"to_csv\" para exportar el dataframe a un archivo\n",
        "df.to_csv(ruta_archivo, index=False, sep='|')"
      ],
      "execution_count": 18,
      "outputs": []
    },
    {
      "cell_type": "code",
      "metadata": {
        "colab": {
          "base_uri": "https://localhost:8080/",
          "height": 627
        },
        "id": "qgkVJN6LY_8O",
        "outputId": "21d7d4b9-2974-42c1-f45b-c74ae0b8cdbb"
      },
      "source": [
        "# Ver el tamaño del DataFrame y su información\n",
        "print(df.shape)\n",
        "df"
      ],
      "execution_count": 26,
      "outputs": [
        {
          "output_type": "stream",
          "text": [
            "(17, 13)\n"
          ],
          "name": "stdout"
        },
        {
          "output_type": "execute_result",
          "data": {
            "text/html": [
              "<div>\n",
              "<style scoped>\n",
              "    .dataframe tbody tr th:only-of-type {\n",
              "        vertical-align: middle;\n",
              "    }\n",
              "\n",
              "    .dataframe tbody tr th {\n",
              "        vertical-align: top;\n",
              "    }\n",
              "\n",
              "    .dataframe thead th {\n",
              "        text-align: right;\n",
              "    }\n",
              "</style>\n",
              "<table border=\"1\" class=\"dataframe\">\n",
              "  <thead>\n",
              "    <tr style=\"text-align: right;\">\n",
              "      <th></th>\n",
              "      <th>Country</th>\n",
              "      <th>GDP PC</th>\n",
              "      <th>GDP US bill</th>\n",
              "      <th>GDP Growth %</th>\n",
              "      <th>Services % GDP</th>\n",
              "      <th>Creat Ind % GDP</th>\n",
              "      <th>Inflation</th>\n",
              "      <th>Unemployment</th>\n",
              "      <th>% pop below poverty line</th>\n",
              "      <th>Internet penetration % population</th>\n",
              "      <th>Median age</th>\n",
              "      <th>% pop 25-54</th>\n",
              "      <th>Education invest % GDP</th>\n",
              "    </tr>\n",
              "  </thead>\n",
              "  <tbody>\n",
              "    <tr>\n",
              "      <th>0</th>\n",
              "      <td>Argentina</td>\n",
              "      <td>20900</td>\n",
              "      <td>637.7</td>\n",
              "      <td>2.9</td>\n",
              "      <td>60.9</td>\n",
              "      <td>3.8</td>\n",
              "      <td>25.7</td>\n",
              "      <td>8.1</td>\n",
              "      <td>25.7</td>\n",
              "      <td>93.1</td>\n",
              "      <td>31.7</td>\n",
              "      <td>39.38</td>\n",
              "      <td>5.9</td>\n",
              "    </tr>\n",
              "    <tr>\n",
              "      <th>1</th>\n",
              "      <td>Belize</td>\n",
              "      <td>8300</td>\n",
              "      <td>1854.0</td>\n",
              "      <td>0.8</td>\n",
              "      <td>62.2</td>\n",
              "      <td>NaN</td>\n",
              "      <td>1.1</td>\n",
              "      <td>10.1</td>\n",
              "      <td>41.0</td>\n",
              "      <td>52.3</td>\n",
              "      <td>22.7</td>\n",
              "      <td>36.62</td>\n",
              "      <td>7.4</td>\n",
              "    </tr>\n",
              "    <tr>\n",
              "      <th>2</th>\n",
              "      <td>Bolivia</td>\n",
              "      <td>7500</td>\n",
              "      <td>37.1</td>\n",
              "      <td>4.2</td>\n",
              "      <td>50.0</td>\n",
              "      <td>NaN</td>\n",
              "      <td>2.8</td>\n",
              "      <td>4.0</td>\n",
              "      <td>38.6</td>\n",
              "      <td>78.6</td>\n",
              "      <td>24.3</td>\n",
              "      <td>37.48</td>\n",
              "      <td>7.3</td>\n",
              "    </tr>\n",
              "    <tr>\n",
              "      <th>3</th>\n",
              "      <td>Brazil</td>\n",
              "      <td>15600</td>\n",
              "      <td>2055000.0</td>\n",
              "      <td>1.0</td>\n",
              "      <td>72.8</td>\n",
              "      <td>2.6</td>\n",
              "      <td>3.4</td>\n",
              "      <td>11.8</td>\n",
              "      <td>4.2</td>\n",
              "      <td>70.7</td>\n",
              "      <td>32.0</td>\n",
              "      <td>43.86</td>\n",
              "      <td>5.9</td>\n",
              "    </tr>\n",
              "    <tr>\n",
              "      <th>4</th>\n",
              "      <td>Chile</td>\n",
              "      <td>24500</td>\n",
              "      <td>277.0</td>\n",
              "      <td>1.5</td>\n",
              "      <td>64.3</td>\n",
              "      <td>2.2</td>\n",
              "      <td>2.2</td>\n",
              "      <td>7.0</td>\n",
              "      <td>14.4</td>\n",
              "      <td>77.5</td>\n",
              "      <td>34.4</td>\n",
              "      <td>43.08</td>\n",
              "      <td>4.9</td>\n",
              "    </tr>\n",
              "    <tr>\n",
              "      <th>5</th>\n",
              "      <td>Colombia</td>\n",
              "      <td>14500</td>\n",
              "      <td>309.2</td>\n",
              "      <td>1.8</td>\n",
              "      <td>61.4</td>\n",
              "      <td>3.3</td>\n",
              "      <td>4.3</td>\n",
              "      <td>10.5</td>\n",
              "      <td>28.0</td>\n",
              "      <td>63.2</td>\n",
              "      <td>30.0</td>\n",
              "      <td>41.91</td>\n",
              "      <td>4.5</td>\n",
              "    </tr>\n",
              "    <tr>\n",
              "      <th>6</th>\n",
              "      <td>Costa Rica</td>\n",
              "      <td>16900</td>\n",
              "      <td>58.1</td>\n",
              "      <td>3.2</td>\n",
              "      <td>73.5</td>\n",
              "      <td>2.0</td>\n",
              "      <td>1.6</td>\n",
              "      <td>8.1</td>\n",
              "      <td>21.7</td>\n",
              "      <td>86.7</td>\n",
              "      <td>31.3</td>\n",
              "      <td>44.03</td>\n",
              "      <td>7.1</td>\n",
              "    </tr>\n",
              "    <tr>\n",
              "      <th>7</th>\n",
              "      <td>Ecuador</td>\n",
              "      <td>11500</td>\n",
              "      <td>102.3</td>\n",
              "      <td>2.7</td>\n",
              "      <td>56.9</td>\n",
              "      <td>2.0</td>\n",
              "      <td>0.4</td>\n",
              "      <td>4.6</td>\n",
              "      <td>21.5</td>\n",
              "      <td>79.9</td>\n",
              "      <td>27.7</td>\n",
              "      <td>39.59</td>\n",
              "      <td>5.0</td>\n",
              "    </tr>\n",
              "    <tr>\n",
              "      <th>8</th>\n",
              "      <td>El Salvador</td>\n",
              "      <td>8900</td>\n",
              "      <td>28.0</td>\n",
              "      <td>2.4</td>\n",
              "      <td>64.9</td>\n",
              "      <td>NaN</td>\n",
              "      <td>1.0</td>\n",
              "      <td>7.0</td>\n",
              "      <td>32.7</td>\n",
              "      <td>57.7</td>\n",
              "      <td>27.1</td>\n",
              "      <td>39.23</td>\n",
              "      <td>3.5</td>\n",
              "    </tr>\n",
              "    <tr>\n",
              "      <th>9</th>\n",
              "      <td>Guatemala</td>\n",
              "      <td>8100</td>\n",
              "      <td>75.7</td>\n",
              "      <td>2.8</td>\n",
              "      <td>63.2</td>\n",
              "      <td>NaN</td>\n",
              "      <td>4.4</td>\n",
              "      <td>2.3</td>\n",
              "      <td>59.3</td>\n",
              "      <td>42.1</td>\n",
              "      <td>22.1</td>\n",
              "      <td>34.12</td>\n",
              "      <td>2.8</td>\n",
              "    </tr>\n",
              "    <tr>\n",
              "      <th>10</th>\n",
              "      <td>Honduras</td>\n",
              "      <td>5600</td>\n",
              "      <td>22.9</td>\n",
              "      <td>4.8</td>\n",
              "      <td>57.8</td>\n",
              "      <td>NaN</td>\n",
              "      <td>3.9</td>\n",
              "      <td>5.9</td>\n",
              "      <td>29.6</td>\n",
              "      <td>38.2</td>\n",
              "      <td>23.0</td>\n",
              "      <td>36.63</td>\n",
              "      <td>5.9</td>\n",
              "    </tr>\n",
              "    <tr>\n",
              "      <th>11</th>\n",
              "      <td>Mexico</td>\n",
              "      <td>19900</td>\n",
              "      <td>1149000.0</td>\n",
              "      <td>2.0</td>\n",
              "      <td>64.0</td>\n",
              "      <td>7.4</td>\n",
              "      <td>6.0</td>\n",
              "      <td>3.6</td>\n",
              "      <td>46.2</td>\n",
              "      <td>65.0</td>\n",
              "      <td>28.3</td>\n",
              "      <td>40.81</td>\n",
              "      <td>5.3</td>\n",
              "    </tr>\n",
              "    <tr>\n",
              "      <th>12</th>\n",
              "      <td>Nicaragua</td>\n",
              "      <td>5800</td>\n",
              "      <td>13.7</td>\n",
              "      <td>4.9</td>\n",
              "      <td>50.8</td>\n",
              "      <td>NaN</td>\n",
              "      <td>3.9</td>\n",
              "      <td>6.5</td>\n",
              "      <td>29.6</td>\n",
              "      <td>43.0</td>\n",
              "      <td>25.7</td>\n",
              "      <td>40.24</td>\n",
              "      <td>4.5</td>\n",
              "    </tr>\n",
              "    <tr>\n",
              "      <th>13</th>\n",
              "      <td>Panama</td>\n",
              "      <td>25400</td>\n",
              "      <td>61.8</td>\n",
              "      <td>5.4</td>\n",
              "      <td>82.0</td>\n",
              "      <td>6.3</td>\n",
              "      <td>0.9</td>\n",
              "      <td>5.5</td>\n",
              "      <td>23.0</td>\n",
              "      <td>69.7</td>\n",
              "      <td>29.2</td>\n",
              "      <td>40.35</td>\n",
              "      <td>3.2</td>\n",
              "    </tr>\n",
              "    <tr>\n",
              "      <th>14</th>\n",
              "      <td>Paraguay</td>\n",
              "      <td>9800</td>\n",
              "      <td>29.6</td>\n",
              "      <td>4.3</td>\n",
              "      <td>54.5</td>\n",
              "      <td>4.1</td>\n",
              "      <td>3.6</td>\n",
              "      <td>6.5</td>\n",
              "      <td>22.2</td>\n",
              "      <td>89.6</td>\n",
              "      <td>28.2</td>\n",
              "      <td>41.08</td>\n",
              "      <td>5.0</td>\n",
              "    </tr>\n",
              "    <tr>\n",
              "      <th>15</th>\n",
              "      <td>Peru</td>\n",
              "      <td>13300</td>\n",
              "      <td>215.2</td>\n",
              "      <td>2.5</td>\n",
              "      <td>56.8</td>\n",
              "      <td>1.5</td>\n",
              "      <td>2.8</td>\n",
              "      <td>6.7</td>\n",
              "      <td>22.7</td>\n",
              "      <td>67.6</td>\n",
              "      <td>28.0</td>\n",
              "      <td>40.19</td>\n",
              "      <td>3.8</td>\n",
              "    </tr>\n",
              "    <tr>\n",
              "      <th>16</th>\n",
              "      <td>Uruguay</td>\n",
              "      <td>22400</td>\n",
              "      <td>58.4</td>\n",
              "      <td>3.1</td>\n",
              "      <td>68.8</td>\n",
              "      <td>1.0</td>\n",
              "      <td>6.2</td>\n",
              "      <td>7.3</td>\n",
              "      <td>9.7</td>\n",
              "      <td>88.2</td>\n",
              "      <td>35.0</td>\n",
              "      <td>39.34</td>\n",
              "      <td>4.4</td>\n",
              "    </tr>\n",
              "  </tbody>\n",
              "</table>\n",
              "</div>"
            ],
            "text/plain": [
              "        Country  GDP PC  ...  % pop 25-54  Education invest % GDP\n",
              "0     Argentina   20900  ...        39.38                     5.9\n",
              "1        Belize    8300  ...        36.62                     7.4\n",
              "2       Bolivia    7500  ...        37.48                     7.3\n",
              "3        Brazil   15600  ...        43.86                     5.9\n",
              "4         Chile   24500  ...        43.08                     4.9\n",
              "5      Colombia   14500  ...        41.91                     4.5\n",
              "6    Costa Rica   16900  ...        44.03                     7.1\n",
              "7       Ecuador   11500  ...        39.59                     5.0\n",
              "8   El Salvador    8900  ...        39.23                     3.5\n",
              "9     Guatemala    8100  ...        34.12                     2.8\n",
              "10     Honduras    5600  ...        36.63                     5.9\n",
              "11       Mexico   19900  ...        40.81                     5.3\n",
              "12    Nicaragua    5800  ...        40.24                     4.5\n",
              "13       Panama   25400  ...        40.35                     3.2\n",
              "14     Paraguay    9800  ...        41.08                     5.0\n",
              "15         Peru   13300  ...        40.19                     3.8\n",
              "16      Uruguay   22400  ...        39.34                     4.4\n",
              "\n",
              "[17 rows x 13 columns]"
            ]
          },
          "metadata": {
            "tags": []
          },
          "execution_count": 26
        }
      ]
    },
    {
      "cell_type": "code",
      "metadata": {
        "colab": {
          "base_uri": "https://localhost:8080/"
        },
        "id": "I0wH_WBubVq4",
        "outputId": "acd345dd-671c-41da-f5fc-726beea1e338"
      },
      "source": [
        "# Si queremos ver el total de los datos que componen la base de datos\n",
        "df.size"
      ],
      "execution_count": 28,
      "outputs": [
        {
          "output_type": "execute_result",
          "data": {
            "text/plain": [
              "221"
            ]
          },
          "metadata": {
            "tags": []
          },
          "execution_count": 28
        }
      ]
    },
    {
      "cell_type": "code",
      "metadata": {
        "colab": {
          "base_uri": "https://localhost:8080/",
          "height": 331
        },
        "id": "dAFUzpaabtJE",
        "outputId": "2dbfd2b6-eac9-4b48-d5ed-8dd5f8fc96c9"
      },
      "source": [
        "# Si queremos conocer información sobre las variables numéricas, usamos el método describe\n",
        "df.describe()"
      ],
      "execution_count": 29,
      "outputs": [
        {
          "output_type": "execute_result",
          "data": {
            "text/html": [
              "<div>\n",
              "<style scoped>\n",
              "    .dataframe tbody tr th:only-of-type {\n",
              "        vertical-align: middle;\n",
              "    }\n",
              "\n",
              "    .dataframe tbody tr th {\n",
              "        vertical-align: top;\n",
              "    }\n",
              "\n",
              "    .dataframe thead th {\n",
              "        text-align: right;\n",
              "    }\n",
              "</style>\n",
              "<table border=\"1\" class=\"dataframe\">\n",
              "  <thead>\n",
              "    <tr style=\"text-align: right;\">\n",
              "      <th></th>\n",
              "      <th>GDP PC</th>\n",
              "      <th>GDP US bill</th>\n",
              "      <th>GDP Growth %</th>\n",
              "      <th>Services % GDP</th>\n",
              "      <th>Creat Ind % GDP</th>\n",
              "      <th>Inflation</th>\n",
              "      <th>Unemployment</th>\n",
              "      <th>% pop below poverty line</th>\n",
              "      <th>Internet penetration % population</th>\n",
              "      <th>Median age</th>\n",
              "      <th>% pop 25-54</th>\n",
              "      <th>Education invest % GDP</th>\n",
              "    </tr>\n",
              "  </thead>\n",
              "  <tbody>\n",
              "    <tr>\n",
              "      <th>count</th>\n",
              "      <td>17.000000</td>\n",
              "      <td>1.700000e+01</td>\n",
              "      <td>17.000000</td>\n",
              "      <td>17.000000</td>\n",
              "      <td>11.000000</td>\n",
              "      <td>17.000000</td>\n",
              "      <td>17.000000</td>\n",
              "      <td>17.000000</td>\n",
              "      <td>17.000000</td>\n",
              "      <td>17.000000</td>\n",
              "      <td>17.000000</td>\n",
              "      <td>17.000000</td>\n",
              "    </tr>\n",
              "    <tr>\n",
              "      <th>mean</th>\n",
              "      <td>14052.941176</td>\n",
              "      <td>1.886930e+05</td>\n",
              "      <td>2.958824</td>\n",
              "      <td>62.635294</td>\n",
              "      <td>3.290909</td>\n",
              "      <td>4.364706</td>\n",
              "      <td>6.794118</td>\n",
              "      <td>27.652941</td>\n",
              "      <td>68.417647</td>\n",
              "      <td>28.276471</td>\n",
              "      <td>39.878824</td>\n",
              "      <td>5.082353</td>\n",
              "    </tr>\n",
              "    <tr>\n",
              "      <th>std</th>\n",
              "      <td>6624.303515</td>\n",
              "      <td>5.555371e+05</td>\n",
              "      <td>1.370246</td>\n",
              "      <td>8.311885</td>\n",
              "      <td>2.007712</td>\n",
              "      <td>5.756077</td>\n",
              "      <td>2.489345</td>\n",
              "      <td>13.411055</td>\n",
              "      <td>17.274194</td>\n",
              "      <td>3.893830</td>\n",
              "      <td>2.638077</td>\n",
              "      <td>1.380777</td>\n",
              "    </tr>\n",
              "    <tr>\n",
              "      <th>min</th>\n",
              "      <td>5600.000000</td>\n",
              "      <td>1.370000e+01</td>\n",
              "      <td>0.800000</td>\n",
              "      <td>50.000000</td>\n",
              "      <td>1.000000</td>\n",
              "      <td>0.400000</td>\n",
              "      <td>2.300000</td>\n",
              "      <td>4.200000</td>\n",
              "      <td>38.200000</td>\n",
              "      <td>22.100000</td>\n",
              "      <td>34.120000</td>\n",
              "      <td>2.800000</td>\n",
              "    </tr>\n",
              "    <tr>\n",
              "      <th>25%</th>\n",
              "      <td>8300.000000</td>\n",
              "      <td>3.710000e+01</td>\n",
              "      <td>2.000000</td>\n",
              "      <td>56.900000</td>\n",
              "      <td>2.000000</td>\n",
              "      <td>1.600000</td>\n",
              "      <td>5.500000</td>\n",
              "      <td>21.700000</td>\n",
              "      <td>57.700000</td>\n",
              "      <td>25.700000</td>\n",
              "      <td>39.230000</td>\n",
              "      <td>4.400000</td>\n",
              "    </tr>\n",
              "    <tr>\n",
              "      <th>50%</th>\n",
              "      <td>13300.000000</td>\n",
              "      <td>7.570000e+01</td>\n",
              "      <td>2.800000</td>\n",
              "      <td>62.200000</td>\n",
              "      <td>2.600000</td>\n",
              "      <td>3.400000</td>\n",
              "      <td>6.700000</td>\n",
              "      <td>25.700000</td>\n",
              "      <td>69.700000</td>\n",
              "      <td>28.200000</td>\n",
              "      <td>40.190000</td>\n",
              "      <td>5.000000</td>\n",
              "    </tr>\n",
              "    <tr>\n",
              "      <th>75%</th>\n",
              "      <td>19900.000000</td>\n",
              "      <td>3.092000e+02</td>\n",
              "      <td>4.200000</td>\n",
              "      <td>64.900000</td>\n",
              "      <td>3.950000</td>\n",
              "      <td>4.300000</td>\n",
              "      <td>8.100000</td>\n",
              "      <td>32.700000</td>\n",
              "      <td>79.900000</td>\n",
              "      <td>31.300000</td>\n",
              "      <td>41.080000</td>\n",
              "      <td>5.900000</td>\n",
              "    </tr>\n",
              "    <tr>\n",
              "      <th>max</th>\n",
              "      <td>25400.000000</td>\n",
              "      <td>2.055000e+06</td>\n",
              "      <td>5.400000</td>\n",
              "      <td>82.000000</td>\n",
              "      <td>7.400000</td>\n",
              "      <td>25.700000</td>\n",
              "      <td>11.800000</td>\n",
              "      <td>59.300000</td>\n",
              "      <td>93.100000</td>\n",
              "      <td>35.000000</td>\n",
              "      <td>44.030000</td>\n",
              "      <td>7.400000</td>\n",
              "    </tr>\n",
              "  </tbody>\n",
              "</table>\n",
              "</div>"
            ],
            "text/plain": [
              "             GDP PC   GDP US bill  ...  % pop 25-54  Education invest % GDP\n",
              "count     17.000000  1.700000e+01  ...    17.000000               17.000000\n",
              "mean   14052.941176  1.886930e+05  ...    39.878824                5.082353\n",
              "std     6624.303515  5.555371e+05  ...     2.638077                1.380777\n",
              "min     5600.000000  1.370000e+01  ...    34.120000                2.800000\n",
              "25%     8300.000000  3.710000e+01  ...    39.230000                4.400000\n",
              "50%    13300.000000  7.570000e+01  ...    40.190000                5.000000\n",
              "75%    19900.000000  3.092000e+02  ...    41.080000                5.900000\n",
              "max    25400.000000  2.055000e+06  ...    44.030000                7.400000\n",
              "\n",
              "[8 rows x 12 columns]"
            ]
          },
          "metadata": {
            "tags": []
          },
          "execution_count": 29
        }
      ]
    },
    {
      "cell_type": "code",
      "metadata": {
        "id": "_jDxBSbTbyrT"
      },
      "source": [
        "# Podemos quitar la notación científica\n",
        "pd.options.display.float_format = '{:,.1f}'.format"
      ],
      "execution_count": 30,
      "outputs": []
    },
    {
      "cell_type": "code",
      "metadata": {
        "id": "ocR735AncGjJ"
      },
      "source": [
        "# Podemos quitar la notación científica\n",
        "pd.options.display.float_format = '{:,.1f}'.format"
      ],
      "execution_count": null,
      "outputs": []
    },
    {
      "cell_type": "code",
      "metadata": {
        "colab": {
          "base_uri": "https://localhost:8080/",
          "height": 424
        },
        "id": "IO9hK58Dcfah",
        "outputId": "4782984c-34f9-435c-d4ec-2e93eb84c831"
      },
      "source": [
        "# Para incluir alguna información sobre la variables tipo texto \n",
        "df.describe(include='all')"
      ],
      "execution_count": 31,
      "outputs": [
        {
          "output_type": "execute_result",
          "data": {
            "text/html": [
              "<div>\n",
              "<style scoped>\n",
              "    .dataframe tbody tr th:only-of-type {\n",
              "        vertical-align: middle;\n",
              "    }\n",
              "\n",
              "    .dataframe tbody tr th {\n",
              "        vertical-align: top;\n",
              "    }\n",
              "\n",
              "    .dataframe thead th {\n",
              "        text-align: right;\n",
              "    }\n",
              "</style>\n",
              "<table border=\"1\" class=\"dataframe\">\n",
              "  <thead>\n",
              "    <tr style=\"text-align: right;\">\n",
              "      <th></th>\n",
              "      <th>Country</th>\n",
              "      <th>GDP PC</th>\n",
              "      <th>GDP US bill</th>\n",
              "      <th>GDP Growth %</th>\n",
              "      <th>Services % GDP</th>\n",
              "      <th>Creat Ind % GDP</th>\n",
              "      <th>Inflation</th>\n",
              "      <th>Unemployment</th>\n",
              "      <th>% pop below poverty line</th>\n",
              "      <th>Internet penetration % population</th>\n",
              "      <th>Median age</th>\n",
              "      <th>% pop 25-54</th>\n",
              "      <th>Education invest % GDP</th>\n",
              "    </tr>\n",
              "  </thead>\n",
              "  <tbody>\n",
              "    <tr>\n",
              "      <th>count</th>\n",
              "      <td>17</td>\n",
              "      <td>17.0</td>\n",
              "      <td>17.0</td>\n",
              "      <td>17.0</td>\n",
              "      <td>17.0</td>\n",
              "      <td>11.0</td>\n",
              "      <td>17.0</td>\n",
              "      <td>17.0</td>\n",
              "      <td>17.0</td>\n",
              "      <td>17.0</td>\n",
              "      <td>17.0</td>\n",
              "      <td>17.0</td>\n",
              "      <td>17.0</td>\n",
              "    </tr>\n",
              "    <tr>\n",
              "      <th>unique</th>\n",
              "      <td>17</td>\n",
              "      <td>nan</td>\n",
              "      <td>nan</td>\n",
              "      <td>nan</td>\n",
              "      <td>nan</td>\n",
              "      <td>nan</td>\n",
              "      <td>nan</td>\n",
              "      <td>nan</td>\n",
              "      <td>nan</td>\n",
              "      <td>nan</td>\n",
              "      <td>nan</td>\n",
              "      <td>nan</td>\n",
              "      <td>nan</td>\n",
              "    </tr>\n",
              "    <tr>\n",
              "      <th>top</th>\n",
              "      <td>Argentina</td>\n",
              "      <td>nan</td>\n",
              "      <td>nan</td>\n",
              "      <td>nan</td>\n",
              "      <td>nan</td>\n",
              "      <td>nan</td>\n",
              "      <td>nan</td>\n",
              "      <td>nan</td>\n",
              "      <td>nan</td>\n",
              "      <td>nan</td>\n",
              "      <td>nan</td>\n",
              "      <td>nan</td>\n",
              "      <td>nan</td>\n",
              "    </tr>\n",
              "    <tr>\n",
              "      <th>freq</th>\n",
              "      <td>1</td>\n",
              "      <td>nan</td>\n",
              "      <td>nan</td>\n",
              "      <td>nan</td>\n",
              "      <td>nan</td>\n",
              "      <td>nan</td>\n",
              "      <td>nan</td>\n",
              "      <td>nan</td>\n",
              "      <td>nan</td>\n",
              "      <td>nan</td>\n",
              "      <td>nan</td>\n",
              "      <td>nan</td>\n",
              "      <td>nan</td>\n",
              "    </tr>\n",
              "    <tr>\n",
              "      <th>mean</th>\n",
              "      <td>NaN</td>\n",
              "      <td>14,052.9</td>\n",
              "      <td>188,693.0</td>\n",
              "      <td>3.0</td>\n",
              "      <td>62.6</td>\n",
              "      <td>3.3</td>\n",
              "      <td>4.4</td>\n",
              "      <td>6.8</td>\n",
              "      <td>27.7</td>\n",
              "      <td>68.4</td>\n",
              "      <td>28.3</td>\n",
              "      <td>39.9</td>\n",
              "      <td>5.1</td>\n",
              "    </tr>\n",
              "    <tr>\n",
              "      <th>std</th>\n",
              "      <td>NaN</td>\n",
              "      <td>6,624.3</td>\n",
              "      <td>555,537.1</td>\n",
              "      <td>1.4</td>\n",
              "      <td>8.3</td>\n",
              "      <td>2.0</td>\n",
              "      <td>5.8</td>\n",
              "      <td>2.5</td>\n",
              "      <td>13.4</td>\n",
              "      <td>17.3</td>\n",
              "      <td>3.9</td>\n",
              "      <td>2.6</td>\n",
              "      <td>1.4</td>\n",
              "    </tr>\n",
              "    <tr>\n",
              "      <th>min</th>\n",
              "      <td>NaN</td>\n",
              "      <td>5,600.0</td>\n",
              "      <td>13.7</td>\n",
              "      <td>0.8</td>\n",
              "      <td>50.0</td>\n",
              "      <td>1.0</td>\n",
              "      <td>0.4</td>\n",
              "      <td>2.3</td>\n",
              "      <td>4.2</td>\n",
              "      <td>38.2</td>\n",
              "      <td>22.1</td>\n",
              "      <td>34.1</td>\n",
              "      <td>2.8</td>\n",
              "    </tr>\n",
              "    <tr>\n",
              "      <th>25%</th>\n",
              "      <td>NaN</td>\n",
              "      <td>8,300.0</td>\n",
              "      <td>37.1</td>\n",
              "      <td>2.0</td>\n",
              "      <td>56.9</td>\n",
              "      <td>2.0</td>\n",
              "      <td>1.6</td>\n",
              "      <td>5.5</td>\n",
              "      <td>21.7</td>\n",
              "      <td>57.7</td>\n",
              "      <td>25.7</td>\n",
              "      <td>39.2</td>\n",
              "      <td>4.4</td>\n",
              "    </tr>\n",
              "    <tr>\n",
              "      <th>50%</th>\n",
              "      <td>NaN</td>\n",
              "      <td>13,300.0</td>\n",
              "      <td>75.7</td>\n",
              "      <td>2.8</td>\n",
              "      <td>62.2</td>\n",
              "      <td>2.6</td>\n",
              "      <td>3.4</td>\n",
              "      <td>6.7</td>\n",
              "      <td>25.7</td>\n",
              "      <td>69.7</td>\n",
              "      <td>28.2</td>\n",
              "      <td>40.2</td>\n",
              "      <td>5.0</td>\n",
              "    </tr>\n",
              "    <tr>\n",
              "      <th>75%</th>\n",
              "      <td>NaN</td>\n",
              "      <td>19,900.0</td>\n",
              "      <td>309.2</td>\n",
              "      <td>4.2</td>\n",
              "      <td>64.9</td>\n",
              "      <td>3.9</td>\n",
              "      <td>4.3</td>\n",
              "      <td>8.1</td>\n",
              "      <td>32.7</td>\n",
              "      <td>79.9</td>\n",
              "      <td>31.3</td>\n",
              "      <td>41.1</td>\n",
              "      <td>5.9</td>\n",
              "    </tr>\n",
              "    <tr>\n",
              "      <th>max</th>\n",
              "      <td>NaN</td>\n",
              "      <td>25,400.0</td>\n",
              "      <td>2,055,000.0</td>\n",
              "      <td>5.4</td>\n",
              "      <td>82.0</td>\n",
              "      <td>7.4</td>\n",
              "      <td>25.7</td>\n",
              "      <td>11.8</td>\n",
              "      <td>59.3</td>\n",
              "      <td>93.1</td>\n",
              "      <td>35.0</td>\n",
              "      <td>44.0</td>\n",
              "      <td>7.4</td>\n",
              "    </tr>\n",
              "  </tbody>\n",
              "</table>\n",
              "</div>"
            ],
            "text/plain": [
              "          Country   GDP PC  ...  % pop 25-54  Education invest % GDP\n",
              "count          17     17.0  ...         17.0                    17.0\n",
              "unique         17      nan  ...          nan                     nan\n",
              "top     Argentina      nan  ...          nan                     nan\n",
              "freq            1      nan  ...          nan                     nan\n",
              "mean          NaN 14,052.9  ...         39.9                     5.1\n",
              "std           NaN  6,624.3  ...          2.6                     1.4\n",
              "min           NaN  5,600.0  ...         34.1                     2.8\n",
              "25%           NaN  8,300.0  ...         39.2                     4.4\n",
              "50%           NaN 13,300.0  ...         40.2                     5.0\n",
              "75%           NaN 19,900.0  ...         41.1                     5.9\n",
              "max           NaN 25,400.0  ...         44.0                     7.4\n",
              "\n",
              "[11 rows x 13 columns]"
            ]
          },
          "metadata": {
            "tags": []
          },
          "execution_count": 31
        }
      ]
    },
    {
      "cell_type": "code",
      "metadata": {
        "colab": {
          "base_uri": "https://localhost:8080/"
        },
        "id": "dTQyaiwncgqH",
        "outputId": "8f7956b0-9800-42fc-f47e-989ae793ef22"
      },
      "source": [
        "# Si queremos ver el tipo de variable que compone cada columna, la cantidad de valores faltantes, la posición de la columna\n",
        "df.info()"
      ],
      "execution_count": 32,
      "outputs": [
        {
          "output_type": "stream",
          "text": [
            "<class 'pandas.core.frame.DataFrame'>\n",
            "RangeIndex: 17 entries, 0 to 16\n",
            "Data columns (total 13 columns):\n",
            " #   Column                             Non-Null Count  Dtype  \n",
            "---  ------                             --------------  -----  \n",
            " 0   Country                            17 non-null     object \n",
            " 1   GDP PC                             17 non-null     int64  \n",
            " 2   GDP US bill                        17 non-null     float64\n",
            " 3   GDP Growth %                       17 non-null     float64\n",
            " 4   Services % GDP                     17 non-null     float64\n",
            " 5   Creat Ind % GDP                    11 non-null     float64\n",
            " 6   Inflation                          17 non-null     float64\n",
            " 7   Unemployment                       17 non-null     float64\n",
            " 8   % pop below poverty line           17 non-null     float64\n",
            " 9   Internet penetration % population  17 non-null     float64\n",
            " 10  Median age                         17 non-null     float64\n",
            " 11  % pop 25-54                        17 non-null     float64\n",
            " 12  Education invest % GDP             17 non-null     float64\n",
            "dtypes: float64(11), int64(1), object(1)\n",
            "memory usage: 1.9+ KB\n"
          ],
          "name": "stdout"
        }
      ]
    },
    {
      "cell_type": "code",
      "metadata": {
        "colab": {
          "base_uri": "https://localhost:8080/"
        },
        "id": "were3ZSFcp0X",
        "outputId": "40fe72a2-0a78-4a1f-8d25-f3de8d4a3aa9"
      },
      "source": [
        "# Si sólo queremos ver el tipo de dato\n",
        "df.dtypes"
      ],
      "execution_count": 34,
      "outputs": [
        {
          "output_type": "execute_result",
          "data": {
            "text/plain": [
              "Country                               object\n",
              "GDP PC                                 int64\n",
              "GDP US bill                          float64\n",
              "GDP Growth %                         float64\n",
              "Services % GDP                       float64\n",
              "Creat Ind % GDP                      float64\n",
              "Inflation                            float64\n",
              "Unemployment                         float64\n",
              "% pop below poverty line             float64\n",
              "Internet penetration % population    float64\n",
              "Median age                           float64\n",
              "% pop 25-54                          float64\n",
              "Education invest % GDP               float64\n",
              "dtype: object"
            ]
          },
          "metadata": {
            "tags": []
          },
          "execution_count": 34
        }
      ]
    },
    {
      "cell_type": "code",
      "metadata": {
        "colab": {
          "base_uri": "https://localhost:8080/"
        },
        "id": "lVTuCDg5cv2-",
        "outputId": "d0bd7f74-2739-438d-94c3-409d3b97bd80"
      },
      "source": [
        "# A partir de Pandas 1.0, hay una funcionalidad para definir el mejor formato para las variables\n",
        "df.convert_dtypes().dtypes"
      ],
      "execution_count": 35,
      "outputs": [
        {
          "output_type": "execute_result",
          "data": {
            "text/plain": [
              "Country                               string\n",
              "GDP PC                                 Int64\n",
              "GDP US bill                          float64\n",
              "GDP Growth %                         float64\n",
              "Services % GDP                       float64\n",
              "Creat Ind % GDP                      float64\n",
              "Inflation                            float64\n",
              "Unemployment                         float64\n",
              "% pop below poverty line             float64\n",
              "Internet penetration % population    float64\n",
              "Median age                           float64\n",
              "% pop 25-54                          float64\n",
              "Education invest % GDP               float64\n",
              "dtype: object"
            ]
          },
          "metadata": {
            "tags": []
          },
          "execution_count": 35
        }
      ]
    },
    {
      "cell_type": "code",
      "metadata": {
        "colab": {
          "base_uri": "https://localhost:8080/"
        },
        "id": "3VEjpgN-c3UW",
        "outputId": "ef1b945e-ba6c-4603-8a37-4538739bc844"
      },
      "source": [
        "# Vamos a mirar el número de valores unicos para cada columna\n",
        "df.nunique()"
      ],
      "execution_count": 37,
      "outputs": [
        {
          "output_type": "execute_result",
          "data": {
            "text/plain": [
              "Country                              17\n",
              "GDP PC                               17\n",
              "GDP US bill                          17\n",
              "GDP Growth %                         17\n",
              "Services % GDP                       17\n",
              "Creat Ind % GDP                      10\n",
              "Inflation                            15\n",
              "Unemployment                         14\n",
              "% pop below poverty line             16\n",
              "Internet penetration % population    17\n",
              "Median age                           17\n",
              "% pop 25-54                          17\n",
              "Education invest % GDP               13\n",
              "dtype: int64"
            ]
          },
          "metadata": {
            "tags": []
          },
          "execution_count": 37
        }
      ]
    },
    {
      "cell_type": "code",
      "metadata": {
        "colab": {
          "base_uri": "https://localhost:8080/",
          "height": 576
        },
        "id": "t6w1VCyHc6-Q",
        "outputId": "ed3f1da6-de51-453f-9e08-3848147a6658"
      },
      "source": [
        "# Como se puede ver, las columnas nametype y fall se componen sólo por 2 valores diferentes\n",
        "df[['Creat Ind % GDP']]"
      ],
      "execution_count": 42,
      "outputs": [
        {
          "output_type": "execute_result",
          "data": {
            "text/html": [
              "<div>\n",
              "<style scoped>\n",
              "    .dataframe tbody tr th:only-of-type {\n",
              "        vertical-align: middle;\n",
              "    }\n",
              "\n",
              "    .dataframe tbody tr th {\n",
              "        vertical-align: top;\n",
              "    }\n",
              "\n",
              "    .dataframe thead th {\n",
              "        text-align: right;\n",
              "    }\n",
              "</style>\n",
              "<table border=\"1\" class=\"dataframe\">\n",
              "  <thead>\n",
              "    <tr style=\"text-align: right;\">\n",
              "      <th></th>\n",
              "      <th>Creat Ind % GDP</th>\n",
              "    </tr>\n",
              "  </thead>\n",
              "  <tbody>\n",
              "    <tr>\n",
              "      <th>0</th>\n",
              "      <td>3.8</td>\n",
              "    </tr>\n",
              "    <tr>\n",
              "      <th>1</th>\n",
              "      <td>nan</td>\n",
              "    </tr>\n",
              "    <tr>\n",
              "      <th>2</th>\n",
              "      <td>nan</td>\n",
              "    </tr>\n",
              "    <tr>\n",
              "      <th>3</th>\n",
              "      <td>2.6</td>\n",
              "    </tr>\n",
              "    <tr>\n",
              "      <th>4</th>\n",
              "      <td>2.2</td>\n",
              "    </tr>\n",
              "    <tr>\n",
              "      <th>5</th>\n",
              "      <td>3.3</td>\n",
              "    </tr>\n",
              "    <tr>\n",
              "      <th>6</th>\n",
              "      <td>2.0</td>\n",
              "    </tr>\n",
              "    <tr>\n",
              "      <th>7</th>\n",
              "      <td>2.0</td>\n",
              "    </tr>\n",
              "    <tr>\n",
              "      <th>8</th>\n",
              "      <td>nan</td>\n",
              "    </tr>\n",
              "    <tr>\n",
              "      <th>9</th>\n",
              "      <td>nan</td>\n",
              "    </tr>\n",
              "    <tr>\n",
              "      <th>10</th>\n",
              "      <td>nan</td>\n",
              "    </tr>\n",
              "    <tr>\n",
              "      <th>11</th>\n",
              "      <td>7.4</td>\n",
              "    </tr>\n",
              "    <tr>\n",
              "      <th>12</th>\n",
              "      <td>nan</td>\n",
              "    </tr>\n",
              "    <tr>\n",
              "      <th>13</th>\n",
              "      <td>6.3</td>\n",
              "    </tr>\n",
              "    <tr>\n",
              "      <th>14</th>\n",
              "      <td>4.1</td>\n",
              "    </tr>\n",
              "    <tr>\n",
              "      <th>15</th>\n",
              "      <td>1.5</td>\n",
              "    </tr>\n",
              "    <tr>\n",
              "      <th>16</th>\n",
              "      <td>1.0</td>\n",
              "    </tr>\n",
              "  </tbody>\n",
              "</table>\n",
              "</div>"
            ],
            "text/plain": [
              "    Creat Ind % GDP\n",
              "0               3.8\n",
              "1               nan\n",
              "2               nan\n",
              "3               2.6\n",
              "4               2.2\n",
              "5               3.3\n",
              "6               2.0\n",
              "7               2.0\n",
              "8               nan\n",
              "9               nan\n",
              "10              nan\n",
              "11              7.4\n",
              "12              nan\n",
              "13              6.3\n",
              "14              4.1\n",
              "15              1.5\n",
              "16              1.0"
            ]
          },
          "metadata": {
            "tags": []
          },
          "execution_count": 42
        }
      ]
    },
    {
      "cell_type": "code",
      "metadata": {
        "colab": {
          "base_uri": "https://localhost:8080/"
        },
        "id": "p4Z8ygxodNsK",
        "outputId": "4bc4686c-1d1a-41a0-c67f-e33ee18f5d22"
      },
      "source": [
        "df.dtypes"
      ],
      "execution_count": 43,
      "outputs": [
        {
          "output_type": "execute_result",
          "data": {
            "text/plain": [
              "Country                               object\n",
              "GDP PC                                 int64\n",
              "GDP US bill                          float64\n",
              "GDP Growth %                         float64\n",
              "Services % GDP                       float64\n",
              "Creat Ind % GDP                      float64\n",
              "Inflation                            float64\n",
              "Unemployment                         float64\n",
              "% pop below poverty line             float64\n",
              "Internet penetration % population    float64\n",
              "Median age                           float64\n",
              "% pop 25-54                          float64\n",
              "Education invest % GDP               float64\n",
              "dtype: object"
            ]
          },
          "metadata": {
            "tags": []
          },
          "execution_count": 43
        }
      ]
    },
    {
      "cell_type": "code",
      "metadata": {
        "colab": {
          "base_uri": "https://localhost:8080/"
        },
        "id": "pLlpnYJFdvke",
        "outputId": "ab4bd293-f4c6-46e6-bd8e-d563f133f3e0"
      },
      "source": [
        "#  Vamos a mirar cuáles son los valores unicos. Usamos el método unique\n",
        "df['Education invest % GDP'].unique()"
      ],
      "execution_count": 46,
      "outputs": [
        {
          "output_type": "execute_result",
          "data": {
            "text/plain": [
              "array([5.9, 7.4, 7.3, 4.9, 4.5, 7.1, 5. , 3.5, 2.8, 5.3, 3.2, 3.8, 4.4])"
            ]
          },
          "metadata": {
            "tags": []
          },
          "execution_count": 46
        }
      ]
    },
    {
      "cell_type": "code",
      "metadata": {
        "colab": {
          "base_uri": "https://localhost:8080/"
        },
        "id": "mOW4lsBr1gu7",
        "outputId": "f02bf98a-20e5-4062-aed6-ead9668aa01f"
      },
      "source": [
        "# Si queremos contar cuántos valores hay para cada categoría, usamos el método value_counts\n",
        "\n",
        "df['Education invest % GDP'].value_counts()"
      ],
      "execution_count": 48,
      "outputs": [
        {
          "output_type": "execute_result",
          "data": {
            "text/plain": [
              "Argentina      1\n",
              "Paraguay       1\n",
              "Colombia       1\n",
              "Mexico         1\n",
              "Bolivia        1\n",
              "Panama         1\n",
              "Honduras       1\n",
              "Ecuador        1\n",
              "Costa Rica     1\n",
              "Peru           1\n",
              "Uruguay        1\n",
              "El Salvador    1\n",
              "Chile          1\n",
              "Belize         1\n",
              "Brazil         1\n",
              "Nicaragua      1\n",
              "Guatemala      1\n",
              "Name: Country, dtype: int64"
            ]
          },
          "metadata": {
            "tags": []
          },
          "execution_count": 48
        }
      ]
    },
    {
      "cell_type": "code",
      "metadata": {
        "id": "yUPByKrUetQ2"
      },
      "source": [
        ""
      ],
      "execution_count": null,
      "outputs": []
    }
  ]
}